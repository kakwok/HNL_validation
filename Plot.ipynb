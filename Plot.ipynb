{
 "cells": [
  {
   "cell_type": "code",
   "execution_count": 2,
   "metadata": {},
   "outputs": [],
   "source": [
    "import coffea\n",
    "import awkward as ak\n",
    "from coffea.nanoevents import NanoEventsFactory, NanoAODSchema\n",
    "import numpy as np\n",
    "from coffea import hist"
   ]
  },
  {
   "cell_type": "code",
   "execution_count": 3,
   "metadata": {},
   "outputs": [],
   "source": [
    "import matplotlib.pyplot as plt"
   ]
  },
  {
   "cell_type": "code",
   "execution_count": 4,
   "metadata": {},
   "outputs": [],
   "source": [
    "import uproot"
   ]
  },
  {
   "cell_type": "code",
   "execution_count": 5,
   "metadata": {},
   "outputs": [],
   "source": [
    "def getGen(f):\n",
    "    events = NanoEventsFactory.from_root(f,schemaclass=NanoAODSchema).events()\n",
    "    return events.GenPart\n",
    "\n",
    "def unique(a):\n",
    "    return np.unique(ak.flatten(a,axis=None).to_numpy())"
   ]
  },
  {
   "cell_type": "code",
   "execution_count": 35,
   "metadata": {},
   "outputs": [],
   "source": [
    "def getWPt(f):\n",
    "    genPart = getGen(f)\n",
    "    wpt = genPart[(genPart.status==62)& (abs(genPart.pdgId)==24)].pt \n",
    "    return wpt\n",
    "\n",
    "def getnGenJet(f):\n",
    "    events = NanoEventsFactory.from_root(f,schemaclass=NanoAODSchema).events()\n",
    "    GJ = events.GenJet\n",
    "    GJ_cut = GJ[GJ.pt>15]\n",
    "    nGenJet = ak.num(GJ_cut,axis=1)\n",
    "    return nGenJet"
   ]
  },
  {
   "cell_type": "code",
   "execution_count": 36,
   "metadata": {},
   "outputs": [
    {
     "name": "stderr",
     "output_type": "stream",
     "text": [
      "/uscms/home/kkwok/work/LLP/CMSSW_10_6_20/src/llp_analyzer/coffeaenv/lib/python3.7/site-packages/coffea/nanoevents/schemas/nanoaod.py:196: RuntimeWarning: Missing cross-reference index for Electron_genPartIdx => GenPart\n",
      "  RuntimeWarning,\n",
      "/uscms/home/kkwok/work/LLP/CMSSW_10_6_20/src/llp_analyzer/coffeaenv/lib/python3.7/site-packages/coffea/nanoevents/schemas/nanoaod.py:196: RuntimeWarning: Missing cross-reference index for Electron_jetIdx => Jet\n",
      "  RuntimeWarning,\n",
      "/uscms/home/kkwok/work/LLP/CMSSW_10_6_20/src/llp_analyzer/coffeaenv/lib/python3.7/site-packages/coffea/nanoevents/schemas/nanoaod.py:196: RuntimeWarning: Missing cross-reference index for Electron_photonIdx => Photon\n",
      "  RuntimeWarning,\n",
      "/uscms/home/kkwok/work/LLP/CMSSW_10_6_20/src/llp_analyzer/coffeaenv/lib/python3.7/site-packages/coffea/nanoevents/schemas/nanoaod.py:196: RuntimeWarning: Missing cross-reference index for FatJet_genJetAK8Idx => GenJetAK8\n",
      "  RuntimeWarning,\n",
      "/uscms/home/kkwok/work/LLP/CMSSW_10_6_20/src/llp_analyzer/coffeaenv/lib/python3.7/site-packages/coffea/nanoevents/schemas/nanoaod.py:196: RuntimeWarning: Missing cross-reference index for FatJet_subJetIdx1 => SubJet\n",
      "  RuntimeWarning,\n",
      "/uscms/home/kkwok/work/LLP/CMSSW_10_6_20/src/llp_analyzer/coffeaenv/lib/python3.7/site-packages/coffea/nanoevents/schemas/nanoaod.py:196: RuntimeWarning: Missing cross-reference index for FatJet_subJetIdx2 => SubJet\n",
      "  RuntimeWarning,\n",
      "/uscms/home/kkwok/work/LLP/CMSSW_10_6_20/src/llp_analyzer/coffeaenv/lib/python3.7/site-packages/coffea/nanoevents/schemas/nanoaod.py:196: RuntimeWarning: Missing cross-reference index for FsrPhoton_muonIdx => Muon\n",
      "  RuntimeWarning,\n",
      "/uscms/home/kkwok/work/LLP/CMSSW_10_6_20/src/llp_analyzer/coffeaenv/lib/python3.7/site-packages/coffea/nanoevents/schemas/nanoaod.py:196: RuntimeWarning: Missing cross-reference index for Jet_electronIdx1 => Electron\n",
      "  RuntimeWarning,\n",
      "/uscms/home/kkwok/work/LLP/CMSSW_10_6_20/src/llp_analyzer/coffeaenv/lib/python3.7/site-packages/coffea/nanoevents/schemas/nanoaod.py:196: RuntimeWarning: Missing cross-reference index for Jet_electronIdx2 => Electron\n",
      "  RuntimeWarning,\n",
      "/uscms/home/kkwok/work/LLP/CMSSW_10_6_20/src/llp_analyzer/coffeaenv/lib/python3.7/site-packages/coffea/nanoevents/schemas/nanoaod.py:196: RuntimeWarning: Missing cross-reference index for Jet_genJetIdx => GenJet\n",
      "  RuntimeWarning,\n",
      "/uscms/home/kkwok/work/LLP/CMSSW_10_6_20/src/llp_analyzer/coffeaenv/lib/python3.7/site-packages/coffea/nanoevents/schemas/nanoaod.py:196: RuntimeWarning: Missing cross-reference index for Jet_muonIdx1 => Muon\n",
      "  RuntimeWarning,\n",
      "/uscms/home/kkwok/work/LLP/CMSSW_10_6_20/src/llp_analyzer/coffeaenv/lib/python3.7/site-packages/coffea/nanoevents/schemas/nanoaod.py:196: RuntimeWarning: Missing cross-reference index for Jet_muonIdx2 => Muon\n",
      "  RuntimeWarning,\n",
      "/uscms/home/kkwok/work/LLP/CMSSW_10_6_20/src/llp_analyzer/coffeaenv/lib/python3.7/site-packages/coffea/nanoevents/schemas/nanoaod.py:196: RuntimeWarning: Missing cross-reference index for Muon_fsrPhotonIdx => FsrPhoton\n",
      "  RuntimeWarning,\n",
      "/uscms/home/kkwok/work/LLP/CMSSW_10_6_20/src/llp_analyzer/coffeaenv/lib/python3.7/site-packages/coffea/nanoevents/schemas/nanoaod.py:196: RuntimeWarning: Missing cross-reference index for Muon_genPartIdx => GenPart\n",
      "  RuntimeWarning,\n",
      "/uscms/home/kkwok/work/LLP/CMSSW_10_6_20/src/llp_analyzer/coffeaenv/lib/python3.7/site-packages/coffea/nanoevents/schemas/nanoaod.py:196: RuntimeWarning: Missing cross-reference index for Muon_jetIdx => Jet\n",
      "  RuntimeWarning,\n",
      "/uscms/home/kkwok/work/LLP/CMSSW_10_6_20/src/llp_analyzer/coffeaenv/lib/python3.7/site-packages/coffea/nanoevents/schemas/nanoaod.py:196: RuntimeWarning: Missing cross-reference index for Photon_electronIdx => Electron\n",
      "  RuntimeWarning,\n",
      "/uscms/home/kkwok/work/LLP/CMSSW_10_6_20/src/llp_analyzer/coffeaenv/lib/python3.7/site-packages/coffea/nanoevents/schemas/nanoaod.py:196: RuntimeWarning: Missing cross-reference index for Photon_genPartIdx => GenPart\n",
      "  RuntimeWarning,\n",
      "/uscms/home/kkwok/work/LLP/CMSSW_10_6_20/src/llp_analyzer/coffeaenv/lib/python3.7/site-packages/coffea/nanoevents/schemas/nanoaod.py:196: RuntimeWarning: Missing cross-reference index for Photon_jetIdx => Jet\n",
      "  RuntimeWarning,\n",
      "/uscms/home/kkwok/work/LLP/CMSSW_10_6_20/src/llp_analyzer/coffeaenv/lib/python3.7/site-packages/coffea/nanoevents/schemas/nanoaod.py:196: RuntimeWarning: Missing cross-reference index for Tau_genPartIdx => GenPart\n",
      "  RuntimeWarning,\n",
      "/uscms/home/kkwok/work/LLP/CMSSW_10_6_20/src/llp_analyzer/coffeaenv/lib/python3.7/site-packages/coffea/nanoevents/schemas/nanoaod.py:196: RuntimeWarning: Missing cross-reference index for Tau_jetIdx => Jet\n",
      "  RuntimeWarning,\n"
     ]
    }
   ],
   "source": [
    "events = NanoEventsFactory.from_root(\"./HNL_mN_5_Ve2_1e-05_NLO/HNL_mN_5_Ve2_1e-05_NLO.root\",schemaclass=NanoAODSchema).events()\n",
    "TwoJet = getGen(\"./HNL_mN_5_Ve2_1e-05_NLO/HNL_mN_5_Ve2_1e-05_NLO.root\")"
   ]
  },
  {
   "cell_type": "code",
   "execution_count": 37,
   "metadata": {},
   "outputs": [
    {
     "data": {
      "text/plain": [
       "<AxesSubplot:xlabel='nGenJet', ylabel='Count'>"
      ]
     },
     "execution_count": 37,
     "metadata": {},
     "output_type": "execute_result"
    },
    {
     "data": {
      "image/png": "[encoded data removed]",
      "text/plain": [
       "<Figure size 432x288 with 1 Axes>"
      ]
     },
     "metadata": {
      "needs_background": "light"
     },
     "output_type": "display_data"
    }
   ],
   "source": [
    "ZeroJet =getnGenJet(\"./HNL_mN_5_Ve2_1e-05_NLO_0j/HNL_mN_5_Ve2_1e-05_NLO_0j.root\")\n",
    "OneJet = getnGenJet(\"./HNL_mN_5_Ve2_1e-05_NLO_1j/HNL_mN_5_Ve2_1e-05_NLO_1j_nJMax1.root\")\n",
    "TwoJet = getnGenJet(\"./HNL_mN_5_Ve2_1e-05_NLO/HNL_mN_5_Ve2_1e-05_NLO.root\")\n",
    "\n",
    "h = hist.Hist(\"Count\",\n",
    "              hist.Cat(\"sample\",\"sample\"),\n",
    "              hist.Bin(\"nGenJet\",\"nGenJet\",10,0,10))\n",
    "\n",
    "h.fill(sample=\"0j\",nGenJet= ZeroJet)\n",
    "h.fill(sample=\"1j\",nGenJet= OneJet)\n",
    "h.fill(sample=\"2j\",nGenJet= TwoJet)\n",
    "hist.plot1d(h)"
   ]
  },
  {
   "cell_type": "code",
   "execution_count": 22,
   "metadata": {},
   "outputs": [
    {
     "data": {
      "text/plain": [
       "<PtEtaPhiMCollectionArray [[{eta: 1.38, ... pt: 31.3}]] type='542 * var * struct...'>"
      ]
     },
     "execution_count": 22,
     "metadata": {},
     "output_type": "execute_result"
    }
   ],
   "source": [
    "events.GenJet"
   ]
  },
  {
   "cell_type": "code",
   "execution_count": 13,
   "metadata": {},
   "outputs": [],
   "source": [
    "gj = events.GenJet"
   ]
  },
  {
   "cell_type": "code",
   "execution_count": 20,
   "metadata": {},
   "outputs": [
    {
     "data": {
      "text/plain": [
       "array([-4, -3, -2, -1,  0,  1,  2,  3,  4,  5, 21], dtype=int32)"
      ]
     },
     "execution_count": 20,
     "metadata": {},
     "output_type": "execute_result"
    }
   ],
   "source": [
    "unique(ak.flatten(gj.partonFlavour))"
   ]
  },
  {
   "cell_type": "code",
   "execution_count": 8,
   "metadata": {},
   "outputs": [
    {
     "data": {
      "text/plain": [
       "['eta',\n",
       " 'mass',\n",
       " 'phi',\n",
       " 'pt',\n",
       " 'genPartIdxMother',\n",
       " 'pdgId',\n",
       " 'status',\n",
       " 'statusFlags',\n",
       " 'genPartIdxMotherG',\n",
       " 'distinctParentIdxG',\n",
       " 'childrenIdxG',\n",
       " 'distinctChildrenIdxG']"
      ]
     },
     "execution_count": 8,
     "metadata": {},
     "output_type": "execute_result"
    }
   ],
   "source": [
    "TwoJet.fields"
   ]
  },
  {
   "cell_type": "code",
   "execution_count": 8,
   "metadata": {},
   "outputs": [],
   "source": [
    "hnl=TwoJet[TwoJet.pdgId==9900012]"
   ]
  },
  {
   "cell_type": "code",
   "execution_count": 56,
   "metadata": {},
   "outputs": [
    {
     "data": {
      "text/plain": [
       "542"
      ]
     },
     "execution_count": 56,
     "metadata": {},
     "output_type": "execute_result"
    }
   ],
   "source": [
    "len(hnl)"
   ]
  },
  {
   "cell_type": "code",
   "execution_count": 36,
   "metadata": {},
   "outputs": [
    {
     "data": {
      "text/plain": [
       "{'childrenIdxG': [620, 621],\n",
       " 'distinctChildrenIdxG': [621],\n",
       " 'distinctParentIdxG': 616,\n",
       " 'eta': 2.84375,\n",
       " 'genPartIdxMother': 616,\n",
       " 'genPartIdxMotherG': 616,\n",
       " 'mass': 0.0,\n",
       " 'pdgId': -11,\n",
       " 'phi': 1.830810546875,\n",
       " 'pt': 0.6347507238388062,\n",
       " 'status': 23,\n",
       " 'statusFlags': 22913}"
      ]
     },
     "execution_count": 36,
     "metadata": {},
     "output_type": "execute_result"
    }
   ],
   "source": [
    "TwoJet[0][617].to_list()"
   ]
  },
  {
   "cell_type": "code",
   "execution_count": 79,
   "metadata": {},
   "outputs": [
    {
     "data": {
      "text/plain": [
       "array([    -11,      11,      22, 9900012], dtype=int32)"
      ]
     },
     "execution_count": 79,
     "metadata": {},
     "output_type": "execute_result"
    }
   ],
   "source": [
    "unique(w.distinctChildren.pdgId)"
   ]
  },
  {
   "cell_type": "code",
   "execution_count": 80,
   "metadata": {},
   "outputs": [
    {
     "data": {
      "text/plain": [
       "array([-16, -15, -14, -13, -12, -11,  -4,  -3,  -2,  -1,   1,   2,   3,\n",
       "         4,  11,  12,  13,  14,  15,  16], dtype=int32)"
      ]
     },
     "execution_count": 80,
     "metadata": {},
     "output_type": "execute_result"
    }
   ],
   "source": [
    "unique(hnl.distinctChildren.pdgId)"
   ]
  },
  {
   "cell_type": "code",
   "execution_count": 74,
   "metadata": {},
   "outputs": [],
   "source": [
    "w=TwoJet[abs(TwoJet.pdgId)==24]"
   ]
  },
  {
   "cell_type": "code",
   "execution_count": 72,
   "metadata": {},
   "outputs": [
    {
     "data": {
      "text/plain": [
       "<Array [[-3, 3, 12]] type='1 * var * ?int32[parameters={\"__doc__\": \"PDG id\"}]'>"
      ]
     },
     "execution_count": 72,
     "metadata": {},
     "output_type": "execute_result"
    }
   ],
   "source": [
    "hnl.children.pdgId[2]"
   ]
  },
  {
   "cell_type": "code",
   "execution_count": 57,
   "metadata": {},
   "outputs": [
    {
     "data": {
      "text/plain": [
       "array([-16, -15, -14, -13, -12, -11,  -4,  -3,  -2,  -1,   1,   2,   3,\n",
       "         4,  11,  12,  13,  14,  15,  16], dtype=int32)"
      ]
     },
     "execution_count": 57,
     "metadata": {},
     "output_type": "execute_result"
    }
   ],
   "source": [
    "unique(hnl.distinctChildren.pdgId)"
   ]
  },
  {
   "cell_type": "code",
   "execution_count": 9,
   "metadata": {},
   "outputs": [
    {
     "data": {
      "text/plain": [
       "<AxesSubplot:xlabel='pdgId', ylabel='Count'>"
      ]
     },
     "execution_count": 9,
     "metadata": {},
     "output_type": "execute_result"
    },
    {
     "data": {
      "image/png": "[encoded data removed]",
      "text/plain": [
       "<Figure size 432x288 with 1 Axes>"
      ]
     },
     "metadata": {
      "needs_background": "light"
     },
     "output_type": "display_data"
    }
   ],
   "source": [
    "h = hist.Hist(\"Count\",\n",
    "              hist.Cat(\"Source\",\"Source\"),\n",
    "              hist.Bin(\"pdgId\",\"pdgId\",60,-30,30))\n",
    "\n",
    "# h.fill(Source=\"HNL 2j\",pdgId= ak.flatten(hnl.distinctChildren.pdgId,axis=None))\n",
    "h.fill(Source=\"HNL children\",pdgId= ak.flatten(hnl.children.pdgId,axis=None))\n",
    "hist.plot1d(h)"
   ]
  },
  {
   "cell_type": "code",
   "execution_count": 9,
   "metadata": {},
   "outputs": [],
   "source": [
    "gen_W=gen[ak.any(abs(gen.pdgId)==24,axis=1)]"
   ]
  },
  {
   "cell_type": "code",
   "execution_count": null,
   "metadata": {},
   "outputs": [],
   "source": [
    "gen_W[abs(gen_W.pdgId)==24].distinctparent"
   ]
  },
  {
   "cell_type": "code",
   "execution_count": 19,
   "metadata": {},
   "outputs": [],
   "source": []
  },
  {
   "cell_type": "code",
   "execution_count": 6,
   "metadata": {
    "scrolled": true
   },
   "outputs": [],
   "source": [
    "genFields = [f for f in events.fields if \"GenPart\" in f]"
   ]
  },
  {
   "cell_type": "code",
   "execution_count": 69,
   "metadata": {},
   "outputs": [],
   "source": [
    "w = gen[abs(gen.GenPart_pdgId==24)]"
   ]
  },
  {
   "cell_type": "code",
   "execution_count": 55,
   "metadata": {},
   "outputs": [
    {
     "data": {
      "text/plain": [
       "array([-16, -15,  -4,  -3,  -2,  -1,   1,   2,   3,   4,  15,  16,  21],\n",
       "      dtype=int32)"
      ]
     },
     "execution_count": 55,
     "metadata": {},
     "output_type": "execute_result"
    }
   ],
   "source": [
    "np.unique(ak.flatten(events.LHEPart_status).to_numpy())"
   ]
  },
  {
   "cell_type": "code",
   "execution_count": 8,
   "metadata": {},
   "outputs": [],
   "source": [
    "gen = ak.zip({k.replace('GenPart_', ''): events[k] for k in genFields})"
   ]
  },
  {
   "cell_type": "code",
   "execution_count": 9,
   "metadata": {},
   "outputs": [],
   "source": [
    "notW = np.where(ak.any(abs(events.GenPart_pdgId)==24,axis=1)==False)\n",
    "Wmask = np.where(ak.any(abs(events.GenPart_pdgId)==24,axis=1)==True)\n",
    "Zmask = np.where(ak.any(events.GenPart_pdgId==23,axis=1)==True)\n",
    "gen_nonW = gen[notW]\n",
    "gen_W = gen[Wmask]\n",
    "gen_Z = gen[Zmask]"
   ]
  },
  {
   "cell_type": "code",
   "execution_count": 79,
   "metadata": {},
   "outputs": [
    {
     "data": {
      "text/plain": [
       "<Array [[], [], [], [], ... [], [], [], []] type='408 * var * int32'>"
      ]
     },
     "execution_count": 79,
     "metadata": {},
     "output_type": "execute_result"
    }
   ],
   "source": [
    "gen_nonW[gen_nonW.GenPart_statusFlags==64].GenPart_pdgId"
   ]
  },
  {
   "cell_type": "code",
   "execution_count": 82,
   "metadata": {},
   "outputs": [
    {
     "data": {
      "text/plain": [
       "array([-13, -11,  11,  13,  21], dtype=int32)"
      ]
     },
     "execution_count": 82,
     "metadata": {},
     "output_type": "execute_result"
    }
   ],
   "source": [
    "np.unique(ak.flatten(gen_nonW[gen_nonW.GenPart_statusFlags==64].GenPart_pdgId).to_numpy())"
   ]
  },
  {
   "cell_type": "code",
   "execution_count": 172,
   "metadata": {},
   "outputs": [
    {
     "data": {
      "text/plain": [
       "<Array [{run: 1, ... GenVtx_t0: -0.141}] type='967 * {\"run\": uint32, \"luminosity...'>"
      ]
     },
     "execution_count": 172,
     "metadata": {},
     "output_type": "execute_result"
    }
   ],
   "source": [
    "gen_W"
   ]
  },
  {
   "cell_type": "code",
   "execution_count": 187,
   "metadata": {},
   "outputs": [
    {
     "data": {
      "text/plain": [
       "<Array [{run: 1, ... GenVtx_t0: -9.42e-05}] type='33 * {\"run\": uint32, \"luminosi...'>"
      ]
     },
     "execution_count": 187,
     "metadata": {},
     "output_type": "execute_result"
    }
   ],
   "source": [
    "gen_nonW"
   ]
  },
  {
   "cell_type": "code",
   "execution_count": 194,
   "metadata": {},
   "outputs": [
    {
     "data": {
      "text/plain": [
       "<Record ... 0, 0], GenVtx_t0: -0.0403} type='{\"run\": uint32, \"luminosityBlock\": ...'>"
      ]
     },
     "execution_count": 194,
     "metadata": {},
     "output_type": "execute_result"
    }
   ],
   "source": []
  },
  {
   "cell_type": "code",
   "execution_count": 10,
   "metadata": {},
   "outputs": [],
   "source": []
  },
  {
   "cell_type": "code",
   "execution_count": 233,
   "metadata": {},
   "outputs": [],
   "source": [
    "h = hist.Hist(\"Count\",\n",
    "              hist.Cat(\"cat\",\"type of event\"),\n",
    "              hist.Bin(\"pdgid\",\"pdgid\",60,-30,30))"
   ]
  },
  {
   "cell_type": "code",
   "execution_count": 239,
   "metadata": {},
   "outputs": [],
   "source": [
    "h.fill(cat=\"nonW\",\n",
    "    pdgid=ak.flatten(gen_nonW.pdgId))\n",
    "#     pdgid=ak.flatten(gen_nonW[gen_nonW.status==1].pdgId))\n",
    "\n",
    "h.fill(cat=\"W\",\n",
    "    pdgid=ak.flatten(gen_W.pdgId))\n",
    "h.fill(cat=\"Z\",\n",
    "    pdgid=ak.flatten(gen_Z.pdgId))\n",
    "\n",
    "\n",
    "#     pdgid=ak.flatten(gen_W[gen_W.status==1].pdgId))\n",
    "# h.fill(cat=\"Z\",\n",
    "#     pdgid=ak.flatten(events[Zmask].GenPart_pdgId))"
   ]
  },
  {
   "cell_type": "code",
   "execution_count": 66,
   "metadata": {},
   "outputs": [],
   "source": [
    "h = hist.Hist(\"Count\",\n",
    "              hist.Cat(\"Source\",\"Source\"),\n",
    "              hist.Bin(\"pdgId\",\"pdgId\",60,-30,30))\n",
    "\n",
    "h.fill(Source=\"fast HNL 2j\",pdgId= ak.flatten(gen_TwoJet.pdgId))\n",
    "h.fill(Source=\"HNL gen\",pdgId= ak.flatten(gen_OldSample.pdgId))"
   ]
  },
  {
   "cell_type": "code",
   "execution_count": 68,
   "metadata": {},
   "outputs": [
    {
     "data": {
      "text/plain": [
       "(1, 491062.2885843451)"
      ]
     },
     "execution_count": 68,
     "metadata": {},
     "output_type": "execute_result"
    },
    {
     "data": {
      "image/png": "[encoded data removed]",
      "text/plain": [
       "<Figure size 720x720 with 1 Axes>"
      ]
     },
     "metadata": {
      "needs_background": "light"
     },
     "output_type": "display_data"
    }
   ],
   "source": [
    "fig, ax = plt.subplots(figsize=(10,10))\n",
    "hist.plot1d(h,overlay='Source')\n",
    "ax.set_yscale(\"log\");ax.set_ylim(1,None)\n",
    "# ax.set_xlim(20,30)\n",
    "# ax.set_xlim(-30,-20)"
   ]
  },
  {
   "cell_type": "code",
   "execution_count": 117,
   "metadata": {
    "scrolled": false
   },
   "outputs": [
    {
     "data": {
      "text/plain": [
       "array([ -20313,  -20213,  -10413,  -10411,  -10323,  -10313,  -10311,\n",
       "         -4322,   -4232,   -4222,   -4214,   -4122,   -4114,   -4112,\n",
       "         -3334,   -3324,   -3322,   -3314,   -3312,   -3224,   -3222,\n",
       "         -3214,   -3212,   -3122,   -3114,   -3112,   -2224,   -2214,\n",
       "         -2212,   -2114,   -2112,   -1114,    -533,    -531,    -523,\n",
       "          -521,    -513,    -511,    -433,    -431,    -423,    -421,\n",
       "          -415,    -413,    -411,    -323,    -321,    -315,    -313,\n",
       "          -311,    -213,    -211,     -24,     -16,     -15,     -14,\n",
       "           -13,     -12,     -11,      -5,      -4,      -3,      -2,\n",
       "            -1,       1,       2,       3,       4,       5,      11,\n",
       "            12,      13,      14,      15,      16,      21,      22,\n",
       "            23,     111,     113,     130,     211,     213,     221,\n",
       "           223,     310,     311,     313,     321,     323,     331,\n",
       "           333,     411,     413,     415,     421,     423,     431,\n",
       "           433,     441,     443,     445,     511,     513,     521,\n",
       "           523,     531,     533,    1103,    1114,    2101,    2103,\n",
       "          2112,    2114,    2203,    2212,    2214,    2224,    3101,\n",
       "          3103,    3112,    3114,    3122,    3201,    3203,    3212,\n",
       "          3214,    3222,    3224,    3303,    3312,    3314,    3322,\n",
       "          3324,    3334,    4114,    4122,    4132,    4222,    4232,\n",
       "          4322,   10311,   10323,   10431,   10441,   10551,   20213,\n",
       "         20313,   20443, 9010221, 9900012, 9940003], dtype=int32)"
      ]
     },
     "execution_count": 117,
     "metadata": {},
     "output_type": "execute_result"
    }
   ],
   "source": [
    "np.unique(ak.flatten(events[notW].GenPart_pdgId).to_numpy())"
   ]
  },
  {
   "cell_type": "code",
   "execution_count": 113,
   "metadata": {},
   "outputs": [
    {
     "data": {
      "text/plain": [
       "array([-1,  1], dtype=int32)"
      ]
     },
     "execution_count": 113,
     "metadata": {},
     "output_type": "execute_result"
    }
   ],
   "source": [
    "np.unique(ak.flatten(events.LHEPart_status).to_numpy())"
   ]
  },
  {
   "cell_type": "code",
   "execution_count": 110,
   "metadata": {},
   "outputs": [
    {
     "data": {
      "text/plain": [
       "array([-16, -15,  -4,  -3,  -2,  -1,   1,   2,   3,   4,  15,  16,  21],\n",
       "      dtype=int32)"
      ]
     },
     "execution_count": 110,
     "metadata": {},
     "output_type": "execute_result"
    }
   ],
   "source": [
    "np.unique(ak.flatten(events[notW].LHEPart_pdgId).to_numpy())"
   ]
  },
  {
   "cell_type": "code",
   "execution_count": 193,
   "metadata": {},
   "outputs": [],
   "source": [
    "All_parent = gen_W[gen_W.genPartIdxMother]"
   ]
  },
  {
   "cell_type": "code",
   "execution_count": 224,
   "metadata": {},
   "outputs": [],
   "source": [
    "gen = ak.zip({k.replace('GenPart_', ''): events[k] for k in genFields})\n",
    "\n",
    "W = gen_W[abs(gen_W.pdgId)==24]\n",
    "W_parent = gen_W[gen_W[abs(gen_W.pdgId)==24].genPartIdxMother]\n",
    "W_grandparent = gen_W[W_parent.genPartIdxMother]"
   ]
  },
  {
   "cell_type": "code",
   "execution_count": 217,
   "metadata": {},
   "outputs": [
    {
     "data": {
      "text/plain": [
       "<Array [[], [], [], [], ... [], [], [], []] type='967 * var * int32'>"
      ]
     },
     "execution_count": 217,
     "metadata": {},
     "output_type": "execute_result"
    }
   ],
   "source": [
    "gen_W[abs(gen_W.pdgId)==24 &(gen_W.status==21)].genPartIdxMother"
   ]
  },
  {
   "cell_type": "code",
   "execution_count": 223,
   "metadata": {},
   "outputs": [
    {
     "name": "stdout",
     "output_type": "stream",
     "text": [
      "W status [22 44 51 52 62]\n",
      "W parent [-24  -4  -3  -2  -1   1   2   3   4  21  24]\n",
      "W grandParent [-24  -4  -3  -2  -1   1   2   3   4  21  24]\n"
     ]
    }
   ],
   "source": [
    "print('W status',np.unique(ak.flatten(W.status).to_numpy()))\n",
    "print(\"W parent\",np.unique(ak.flatten(W_parent.pdgId).to_numpy()))\n",
    "print(\"W grandParent\",np.unique(ak.flatten(W_grandparent.pdgId).to_numpy()))"
   ]
  },
  {
   "cell_type": "code",
   "execution_count": 202,
   "metadata": {},
   "outputs": [
    {
     "data": {
      "text/plain": [
       "<Array [[22, 62], [22, ... 44, 44, 44, 44, 62]] type='967 * var * int32'>"
      ]
     },
     "execution_count": 202,
     "metadata": {},
     "output_type": "execute_result"
    }
   ],
   "source": [
    "W.status"
   ]
  },
  {
   "cell_type": "code",
   "execution_count": 6,
   "metadata": {},
   "outputs": [],
   "source": []
  },
  {
   "cell_type": "code",
   "execution_count": 43,
   "metadata": {},
   "outputs": [
    {
     "data": {
      "text/plain": [
       "array([0, 1])"
      ]
     },
     "execution_count": 43,
     "metadata": {},
     "output_type": "execute_result"
    }
   ],
   "source": [
    "np.unique(ak.num(gen_OneJet[(gen_OneJet.status)& (abs(gen_OneJet.pdgId)==24)]).to_numpy())"
   ]
  },
  {
   "cell_type": "code",
   "execution_count": 132,
   "metadata": {},
   "outputs": [
    {
     "data": {
      "text/plain": [
       "<Array [3.32, 2.27, 1.65, ... 5.39, 1.6, 17.7] type='967 * float32'>"
      ]
     },
     "execution_count": 132,
     "metadata": {},
     "output_type": "execute_result"
    }
   ],
   "source": [
    "ak.flatten(gen_W[(gen_W.status==62) & (abs(gen_W.pdgId)==24)].pt)"
   ]
  },
  {
   "cell_type": "code",
   "execution_count": 144,
   "metadata": {},
   "outputs": [
    {
     "data": {
      "text/plain": [
       "<Array [4, 4, 4, 100, 95, ... 70, 4, 231, 94] type='967 * int32'>"
      ]
     },
     "execution_count": 144,
     "metadata": {},
     "output_type": "execute_result"
    }
   ],
   "source": [
    "ak.flatten(gen_W[(gen_W.status==62) & (abs(gen_W.pdgId)==24)].genPartIdxMother)"
   ]
  },
  {
   "cell_type": "code",
   "execution_count": 145,
   "metadata": {},
   "outputs": [
    {
     "data": {
      "text/plain": [
       "array([  4,   8,  10,  11,  12,  13,  16,  17,  19,  20,  21,  22,  23,\n",
       "        24,  25,  26,  27,  28,  29,  30,  31,  32,  34,  35,  36,  37,\n",
       "        38,  39,  40,  41,  42,  43,  44,  45,  46,  47,  48,  49,  50,\n",
       "        51,  52,  53,  54,  55,  56,  57,  58,  59,  60,  61,  62,  63,\n",
       "        64,  65,  66,  67,  68,  69,  70,  71,  72,  73,  74,  75,  76,\n",
       "        77,  79,  80,  81,  82,  83,  84,  85,  86,  88,  89,  91,  93,\n",
       "        94,  95,  98,  99, 100, 101, 102, 103, 104, 105, 106, 108, 110,\n",
       "       111, 113, 114, 115, 116, 117, 118, 119, 120, 121, 124, 125, 127,\n",
       "       128, 129, 130, 132, 133, 135, 136, 137, 138, 139, 140, 143, 144,\n",
       "       146, 148, 149, 151, 152, 154, 157, 163, 164, 165, 166, 168, 169,\n",
       "       171, 173, 175, 178, 182, 183, 184, 186, 187, 188, 191, 195, 196,\n",
       "       197, 199, 203, 205, 207, 208, 209, 210, 214, 215, 216, 217, 223,\n",
       "       228, 230, 231, 238, 240, 242, 246, 247, 250, 256, 259, 267, 271,\n",
       "       275, 276, 277, 279, 285, 287, 291, 297, 298, 301, 307, 312, 313,\n",
       "       315, 321, 322, 329, 341, 343, 344, 351, 354, 356, 358, 362, 365,\n",
       "       373, 375, 377, 378, 382, 385, 397, 402, 409, 411, 414, 415, 418,\n",
       "       419, 423, 426, 434, 437, 444, 446, 450, 451, 454, 470, 475, 482,\n",
       "       484, 488, 492, 494, 496, 498, 499, 515, 521, 530, 539, 542, 556,\n",
       "       588, 598, 657, 661, 670, 672, 685, 710, 720, 792, 830, 855],\n",
       "      dtype=int32)"
      ]
     },
     "execution_count": 145,
     "metadata": {},
     "output_type": "execute_result"
    }
   ],
   "source": [
    "np.unique(ak.flatten(gen_W[(abs(gen_W.pdgId)==24) &((gen_W.status==62))].genPartIdxMother).to_numpy())"
   ]
  },
  {
   "cell_type": "code",
   "execution_count": 296,
   "metadata": {},
   "outputs": [],
   "source": [
    "# h.fill(Source=\"GenPart_pt, status=62\",Wpt=ak.flatten(gen_W[(gen_W.status==62) &\n",
    "#                                                            (abs(gen_W.pdgId)==24)].pt))\n",
    "# h.fill(Source=\"GenPart_pt, statusFlag=257\",Wpt=ak.flatten(gen_W[(gen_W.statusFlags==257) &\n",
    "#                                                            (abs(gen_W.pdgId)==24)].pt))\n",
    "# h.fill(Source=\"HNL\",Wpt=hnl_events.gWPt)\n",
    "# h.fill(Source=\"GenPart_pt, status=22\",Wpt=ak.flatten(gen_W[gen_W.status==44 & (abs(gen_W.pdgId)==24)].pt))\n",
    "# h.fill(Source= \"LHE_Vpt\",Wpt=(events.LHE_Vpt))"
   ]
  },
  {
   "cell_type": "code",
   "execution_count": 59,
   "metadata": {},
   "outputs": [],
   "source": [
    "\n",
    "\n",
    "# h.fill(Source=\"GenPart_pt, status=22\",Wpt=ak.flatten(gen_W[gen_W.status==44 & (abs(gen_W.pdgId)==24)].pt))\n",
    "# h.fill(Source= \"LHE_Vpt\",Wpt=(events.LHE_Vpt))"
   ]
  },
  {
   "cell_type": "code",
   "execution_count": 34,
   "metadata": {},
   "outputs": [],
   "source": [
    "import mplhep as hep"
   ]
  },
  {
   "cell_type": "code",
   "execution_count": 35,
   "metadata": {},
   "outputs": [],
   "source": [
    "hep.set_style(\"CMS\")"
   ]
  },
  {
   "cell_type": "code",
   "execution_count": null,
   "metadata": {},
   "outputs": [],
   "source": [
    "ZeroJet =getWPt(\"./HNL_mN_5_Ve2_1e-05_NLO_0j/HNL_mN_5_Ve2_1e-05_NLO_0j.root\")\n",
    "OneJet = getWPt(\"./HNL_mN_5_Ve2_1e-05_NLO_1j/HNL_mN_5_Ve2_1e-05_NLO_1j.root\")\n",
    "OneJet_nJmax1 = getWPt(\"./HNL_mN_5_Ve2_1e-05_NLO_1j/HNL_mN_5_Ve2_1e-05_NLO_1j_nJMax1.root\")\n",
    "TwoJet = getWPt(\"./HNL_mN_5_Ve2_1e-05_NLO/HNL_mN_5_Ve2_1e-05_NLO.root\")\n",
    "TwoJet_nJmax4 = getWPt(\"./HNL_mN_5_Ve2_1e-05_NLO/HNL_mN_5_Ve2_1e-05_NLO_nJetMax4.root\")"
   ]
  },
  {
   "cell_type": "code",
   "execution_count": 37,
   "metadata": {},
   "outputs": [
    {
     "data": {
      "text/plain": [
       "<matplotlib.legend.Legend at 0x7fc64c91b310>"
      ]
     },
     "execution_count": 37,
     "metadata": {},
     "output_type": "execute_result"
    },
    {
     "data": {
      "image/png": "[encoded data removed]",
      "text/plain": [
       "<Figure size 720x576 with 1 Axes>"
      ]
     },
     "metadata": {
      "needs_background": "light"
     },
     "output_type": "display_data"
    }
   ],
   "source": [
    "import uproot3 \n",
    "\n",
    "hnl = uproot.open(\"/uscms/home/kkwok/eos/llp/HNL/HeavyNeutralLepton_Tree.root\")['MuonSystem']\n",
    "\n",
    "def getLDF(f):\n",
    "    df = coffea.processor.LazyDataFrame(f)\n",
    "    return uproot.lazy(df._tree)\n",
    "    \n",
    "hnl_events = getLDF(hnl)\n",
    "\n",
    "\n",
    "f_dyturbo = uproot3.open(\"../llp_analyzer/dyturbo_cms/wp-13tev-cms.root\")\n",
    "f_LO = uproot3.open(\"../llp_analyzer/WPT.root\")\n",
    "\n",
    "wp_pt = f_dyturbo['s_qt']\n",
    "wpt_LO = f_LO['Wpt']\n",
    "\n",
    "binsize= wp_pt.edges[1:]-wp_pt.edges[:-1]\n",
    "dyturbo = (wp_pt.values/binsize)/wp_pt.values.sum()\n",
    "WJetsLNu = (wpt_LO.values/binsize)/wpt_LO.values.sum()\n",
    "\n",
    "h = hist.Hist(\"Density\",\n",
    "              hist.Cat(\"Source\",\"Source\"),\n",
    "              hist.Bin(\"Wpt\",\"Wpt\",wp_pt.edges))\n",
    "\n",
    "\n",
    "\n",
    "h.fill(Source=\"HNL flat\",Wpt=hnl_events.gWPt)\n",
    "h.fill(Source=\"HNL_0j gen\",       Wpt=ak.flatten(ZeroJet))\n",
    "# h.fill(Source=\"HNL_1j gen\",       Wpt=ak.flatten(OneJet))\n",
    "h.fill(Source=\"HNL_1j gen(nJmax1)\",       Wpt=ak.flatten(OneJet_nJmax1))\n",
    "h.fill(Source=\"HNL_2j gen(nJmax2)\",       Wpt=ak.flatten(TwoJet))\n",
    "# h.fill(Source=\"HNL_2j gen(nJmax4)\",       Wpt=ak.flatten(TwoJet_nJmax4))\n",
    "\n",
    "\n",
    "\n",
    "fig, ax = plt.subplots(figsize=(10,8))\n",
    "\n",
    "hep.histplot(dyturbo,wp_pt.edges,ax=ax,label=\"DYTURBO\")\n",
    "# hep.histplot(WJetsLNu,wp_pt.edges,ax=ax,label=\"WJetsLNu\")\n",
    "hist.plot1d(h,ax=ax,density=True,clear=False,line_opts={\"lw\":2})\n",
    "# hist.plot1d(h,ax=ax,density=True,clear=False)\n",
    "\n",
    "ax.set_yscale(\"log\");ax.set_ylim(1e-4,None)\n",
    "ax.set_xlim(0,100)\n",
    "ax.legend()"
   ]
  },
  {
   "cell_type": "code",
   "execution_count": null,
   "metadata": {},
   "outputs": [],
   "source": []
  },
  {
   "cell_type": "code",
   "execution_count": 57,
   "metadata": {},
   "outputs": [],
   "source": [
    "LHEfields = [ k for k in events.fields if \"LHEPart_\" in k]"
   ]
  },
  {
   "cell_type": "code",
   "execution_count": 77,
   "metadata": {},
   "outputs": [],
   "source": [
    "LHEfields=[\n",
    "#  'LHEPart_pt',\n",
    "#  'LHEPart_eta',\n",
    "#  'LHEPart_phi',\n",
    "#  'LHEPart_mass',\n",
    "#  'LHEPart_incomingpz',\n",
    " 'LHEPart_pdgId',\n",
    " 'LHEPart_status',\n",
    "#  'LHEPart_spin'\n",
    "]\n",
    "LHE = ak.zip({ k.replace(\"LHEPart_\",\"\"):events[k] for k in LHEfields})"
   ]
  },
  {
   "cell_type": "code",
   "execution_count": 136,
   "metadata": {},
   "outputs": [
    {
     "data": {
      "text/plain": [
       "[[15, 21, -16, 4, -4],\n",
       " [15, 21, 15, 2, -1],\n",
       " [15, 21, 16, 3, -3],\n",
       " [-15, 21, 15, 2, -3],\n",
       " [15, 21, 16, 4, -4],\n",
       " [15, 21, -15, 1, -2],\n",
       " [-15, 21, 15, 2, -1],\n",
       " [-15, 21, -16, 4, -4],\n",
       " [15, 21, -15, 3, -2]]"
      ]
     },
     "execution_count": 136,
     "metadata": {},
     "output_type": "execute_result"
    }
   ],
   "source": [
    "LHE_status1 = LHE[LHE.status==1]\n",
    "LHE_status1[1:10].pdgId.to_list()"
   ]
  },
  {
   "cell_type": "code",
   "execution_count": 293,
   "metadata": {},
   "outputs": [
    {
     "data": {
      "text/plain": [
       "array([10497, 26881], dtype=int32)"
      ]
     },
     "execution_count": 293,
     "metadata": {},
     "output_type": "execute_result"
    }
   ],
   "source": [
    "np.unique(ak.flatten(W[W.status==62].statusFlags).to_numpy())"
   ]
  },
  {
   "cell_type": "code",
   "execution_count": 275,
   "metadata": {},
   "outputs": [],
   "source": [
    "code=[str(bin(i))[2:] for i in a]"
   ]
  },
  {
   "cell_type": "code",
   "execution_count": 273,
   "metadata": {},
   "outputs": [],
   "source": [
    "decode={\n",
    "                0 :  \"isPrompt\", \n",
    "                1 :  \"isDecayedLeptonHadron\",\n",
    "                2 :  \"isTauDecayProduct\", \n",
    "                3 :  \"isPromptTauDecayProduct\", \n",
    "                4 :  \"isDirectTauDecayProduct\", \n",
    "                5 :  \"isDirectPromptTauDecayProduct\",\n",
    "                6 :  \"isDirectHadronDecayProduct\", \n",
    "                7 :  \"isHardProcess\", \n",
    "                8 :  \"fromHardProcess\", \n",
    "                9 :  \"isHardProcessTauDecayProduct\",\n",
    "                10 : \" isDirectHardProcessTauDecayProduct\", \n",
    "                11 : \" fromHardProcessBeforeFSR\", \n",
    "                12 : \" isFirstCopy\", \n",
    "                13 : \" isLastCopy\", \n",
    "                14 : \" isLastCopyBeforeFSR\", \n",
    "}"
   ]
  },
  {
   "cell_type": "code",
   "execution_count": 291,
   "metadata": {},
   "outputs": [],
   "source": [
    "all_decoded={}\n",
    "for dec,c in zip(a,code):\n",
    "    decoded=[]    \n",
    "    for i,bit in enumerate(c):\n",
    "#         print(bit==1)\n",
    "        if bit=='1': decoded.append(decode[i])\n",
    "    all_decoded[dec]=decoded"
   ]
  },
  {
   "cell_type": "code",
   "execution_count": 292,
   "metadata": {},
   "outputs": [
    {
     "data": {
      "text/plain": [
       "{257: ['isPrompt', 'fromHardProcess'],\n",
       " 4481: ['isPrompt',\n",
       "  'isDirectTauDecayProduct',\n",
       "  'isDirectPromptTauDecayProduct',\n",
       "  ' isFirstCopy'],\n",
       " 10497: ['isPrompt',\n",
       "  'isTauDecayProduct',\n",
       "  'isDirectPromptTauDecayProduct',\n",
       "  ' isLastCopy'],\n",
       " 16641: ['isPrompt', 'isDirectHadronDecayProduct', ' isLastCopyBeforeFSR'],\n",
       " 20865: ['isPrompt',\n",
       "  'isTauDecayProduct',\n",
       "  'isDirectHadronDecayProduct',\n",
       "  'isHardProcess',\n",
       "  ' isLastCopyBeforeFSR'],\n",
       " 26881: ['isPrompt',\n",
       "  'isDecayedLeptonHadron',\n",
       "  'isPromptTauDecayProduct',\n",
       "  'isDirectHadronDecayProduct',\n",
       "  ' isLastCopyBeforeFSR']}"
      ]
     },
     "execution_count": 292,
     "metadata": {},
     "output_type": "execute_result"
    }
   ],
   "source": [
    "all_decoded"
   ]
  },
  {
   "cell_type": "code",
   "execution_count": 48,
   "metadata": {},
   "outputs": [
    {
     "data": {
      "text/plain": [
       "array([22, 44, 51, 52, 62], dtype=int32)"
      ]
     },
     "execution_count": 48,
     "metadata": {},
     "output_type": "execute_result"
    }
   ],
   "source": [
    "np.unique(ak.flatten(gen_OneJet[abs(gen_OneJet.pdgId)==24].status).to_numpy())"
   ]
  },
  {
   "cell_type": "code",
   "execution_count": 73,
   "metadata": {},
   "outputs": [],
   "source": [
    "lhe_oldSample = OldSample.LHEPart\n",
    "lhe_TwoJet = TwoJet.LHEPart\n",
    "lhe_OneJet = OneJet.LHEPart"
   ]
  },
  {
   "cell_type": "code",
   "execution_count": 81,
   "metadata": {},
   "outputs": [
    {
     "name": "stdout",
     "output_type": "stream",
     "text": [
      "[    -15      -4      -3      -2      -1       1       2       3       4\n",
      "      15      21 9900012]\n",
      "[    -11      -4      -3      -2      -1       1       2       3       4\n",
      "      11 9900012]\n",
      "[-16 -15  -4  -3  -2  -1   1   2   3   4  15  16  21]\n"
     ]
    }
   ],
   "source": [
    "print(np.unique(ak.flatten(lhe_TwoJet.pdgId).to_numpy()))\n",
    "print(np.unique(ak.flatten(lhe_oldSample.pdgId).to_numpy()))\n",
    "print(np.unique(ak.flatten(lhe_OneJet.pdgId).to_numpy()))"
   ]
  },
  {
   "cell_type": "code",
   "execution_count": 87,
   "metadata": {},
   "outputs": [],
   "source": []
  },
  {
   "cell_type": "code",
   "execution_count": 145,
   "metadata": {},
   "outputs": [
    {
     "data": {
      "image/png": "[encoded data removed]",
      "text/plain": [
       "<Figure size 720x576 with 1 Axes>"
      ]
     },
     "metadata": {
      "needs_background": "light"
     },
     "output_type": "display_data"
    }
   ],
   "source": [
    "h = hist.Hist(\"Count\",\n",
    "              hist.Cat(\"Source\",\"LHE partId\"),\n",
    "              hist.Bin(\"pdgId\",\"pdgId\",60,-30,30))\n",
    "\n",
    "h.fill(Source=\"fast HNL 2j\",pdgId= ak.flatten(lhe_TwoJet.pdgId))\n",
    "h.fill(Source=\"Slow HNL 1j\",pdgId= ak.flatten(lhe_OneJet.pdgId))       \n",
    "h.fill(Source=\"HNL gen\",pdgId= ak.flatten(lhe_oldSample.pdgId))\n",
    "fig, ax = plt.subplots(figsize=(10,8))\n",
    "hist.plot1d(h,overlay='Source',density=True,line_opts={\"lw\":2})\n",
    "ax.legend(loc=2)\n",
    "plt.tight_layout()\n",
    "\n",
    "# ax.set_yscale(\"log\");\n",
    "# ax.set_ylim(1,None)\n",
    "# ax.set_xlim(20,30)\n",
    "# ax.set_xlim(-30,-20)"
   ]
  },
  {
   "cell_type": "code",
   "execution_count": 125,
   "metadata": {},
   "outputs": [
    {
     "data": {
      "text/plain": [
       "<AxesSubplot:xlabel='nGenJet', ylabel='Count'>"
      ]
     },
     "execution_count": 125,
     "metadata": {},
     "output_type": "execute_result"
    },
    {
     "data": {
      "image/png": "[encoded data removed]",
      "text/plain": [
       "<Figure size 720x576 with 1 Axes>"
      ]
     },
     "metadata": {
      "needs_background": "light"
     },
     "output_type": "display_data"
    }
   ],
   "source": [
    "h = hist.Hist(\"Count\",\n",
    "              hist.Cat(\"Source\",\"Sources\"),\n",
    "              hist.Bin(\"nGenJet\",\"nGenJet\",10,0,10))\n",
    "\n",
    "h.fill(Source=\"fast HNL 2j\",nGenJet= ak.num(TwoJet.GenJet))\n",
    "h.fill(Source=\"Slow HNL 1j\",nGenJet= ak.num(OneJet.GenJet))\n",
    "h.fill(Source=\"HNL gen\"    ,nGenJet= ak.num(OldSample.GenJet))\n",
    "\n",
    "fig, ax = plt.subplots(figsize=(10,8))\n",
    "hist.plot1d(h,overlay='Source',density=True,\n",
    "            line_opts={\"lw\":3,\"ls\":\"-\"},\n",
    "#                         error_opts={\"marker\":\"+\",\"lw\":0}\n",
    "           )"
   ]
  },
  {
   "cell_type": "code",
   "execution_count": 108,
   "metadata": {},
   "outputs": [
    {
     "data": {
      "text/plain": [
       "'0.3.1'"
      ]
     },
     "execution_count": 108,
     "metadata": {},
     "output_type": "execute_result"
    }
   ],
   "source": [
    "hep.__version__"
   ]
  },
  {
   "cell_type": "code",
   "execution_count": 106,
   "metadata": {},
   "outputs": [],
   "source": [
    "hep.set_style(\"CMS\")"
   ]
  },
  {
   "cell_type": "code",
   "execution_count": 126,
   "metadata": {},
   "outputs": [
    {
     "data": {
      "text/plain": [
       "(0.001, 0.2877)"
      ]
     },
     "execution_count": 126,
     "metadata": {},
     "output_type": "execute_result"
    },
    {
     "data": {
      "image/png": "[encoded data removed]",
      "text/plain": [
       "<Figure size 720x576 with 1 Axes>"
      ]
     },
     "metadata": {
      "needs_background": "light"
     },
     "output_type": "display_data"
    }
   ],
   "source": [
    "h = hist.Hist(\"Density\",\n",
    "              hist.Cat(\"Source\",\"Source\"),\n",
    "              hist.Bin(\"GenMET\",\"GenMET\",50,0,100))\n",
    "\n",
    "h.fill(Source=\"fast HNL 2j\",GenMET= TwoJet.GenMET.pt)\n",
    "h.fill(Source=\"Slow HNL 1j\",GenMET= OneJet.GenMET.pt)\n",
    "h.fill(Source=\"HNL gen\"    ,GenMET= OldSample.GenMET.pt)\n",
    "\n",
    "fig, ax = plt.subplots(figsize=(10,8))\n",
    "hist.plot1d(h,overlay='Source',density=True,    line_opts={\"lw\":3,\"ls\":\"-\"},)\n",
    "ax.set_yscale('log');ax.set_ylim(1e-3,None)"
   ]
  },
  {
   "cell_type": "code",
   "execution_count": 137,
   "metadata": {},
   "outputs": [
    {
     "data": {
      "text/plain": [
       "array([ -20433,  -20423,  -20413,  -20313,  -20213,  -10323,  -10321,\n",
       "        -10313,  -10311,   -4314,   -4312,   -4232,   -4224,   -4214,\n",
       "         -4132,   -4122,   -4114,   -4112,   -3334,   -3324,   -3322,\n",
       "         -3314,   -3312,   -3224,   -3222,   -3214,   -3212,   -3122,\n",
       "         -3114,   -3112,   -2224,   -2214,   -2212,   -2114,   -2112,\n",
       "         -1114,    -533,    -531,    -523,    -521,    -513,    -511,\n",
       "          -433,    -431,    -423,    -421,    -415,    -413,    -411,\n",
       "          -325,    -323,    -321,    -315,    -313,    -311,    -213,\n",
       "          -211,     -24,     -16,     -15,     -14,     -13,     -12,\n",
       "           -11,      -5,      -4,      -3,      -2,      -1,       1,\n",
       "             2,       3,       4,       5,      11,      12,      13,\n",
       "            14,      15,      16,      21,      22,      24,     111,\n",
       "           113,     130,     211,     213,     221,     223,     310,\n",
       "           311,     313,     315,     321,     323,     325,     331,\n",
       "           333,     411,     413,     421,     423,     431,     433,\n",
       "           441,     443,     445,     511,     513,     521,     523,\n",
       "           531,    1103,    1114,    2101,    2103,    2112,    2114,\n",
       "          2203,    2212,    2214,    2224,    3101,    3103,    3112,\n",
       "          3114,    3122,    3201,    3203,    3212,    3214,    3222,\n",
       "          3224,    3303,    3312,    3314,    3322,    3324,    3334,\n",
       "          4112,    4114,    4122,    4132,    4212,    4214,    4222,\n",
       "          4224,    4232,    4314,    5114,    5122,    5132,    5314,\n",
       "         10311,   10313,   10321,   10323,   10441,   20213,   20313,\n",
       "         20433,   20443, 9010221, 9900012, 9941003], dtype=int32)"
      ]
     },
     "execution_count": 137,
     "metadata": {},
     "output_type": "execute_result"
    }
   ],
   "source": [
    "unique(gen_OldSample.pdgId)"
   ]
  },
  {
   "cell_type": "code",
   "execution_count": 166,
   "metadata": {},
   "outputs": [],
   "source": [
    "def unique(a):\n",
    "    return np.unique(ak.flatten(a,axis=None).to_numpy())"
   ]
  },
  {
   "cell_type": "code",
   "execution_count": 152,
   "metadata": {},
   "outputs": [
    {
     "data": {
      "text/plain": [
       "<GenParticleArray [[GenParticle, ... GenParticle]] type='1000 * var * genParticle'>"
      ]
     },
     "execution_count": 152,
     "metadata": {},
     "output_type": "execute_result"
    }
   ],
   "source": [
    "gen_OldSample[ak.any(abs(gen_OldSample.pdgId)==24,axis=1)]"
   ]
  },
  {
   "cell_type": "code",
   "execution_count": 153,
   "metadata": {},
   "outputs": [
    {
     "data": {
      "text/plain": [
       "<GenParticleArray [[GenParticle, ... GenParticle]] type='967 * var * genParticle'>"
      ]
     },
     "execution_count": 153,
     "metadata": {},
     "output_type": "execute_result"
    }
   ],
   "source": [
    "gen_OneJet[ak.any(abs(gen_OneJet.pdgId)==24,axis=1)]"
   ]
  },
  {
   "cell_type": "code",
   "execution_count": 154,
   "metadata": {},
   "outputs": [
    {
     "data": {
      "text/plain": [
       "<GenParticleArray [[GenParticle, ... GenParticle]] type='1000 * var * genParticle'>"
      ]
     },
     "execution_count": 154,
     "metadata": {},
     "output_type": "execute_result"
    }
   ],
   "source": [
    "gen_TwoJet[ak.any(abs(gen_TwoJet.pdgId)==24,axis=1)]"
   ]
  },
  {
   "cell_type": "code",
   "execution_count": 155,
   "metadata": {},
   "outputs": [],
   "source": [
    "W = gen_OldSample[abs(gen_OldSample.pdgId)==24]"
   ]
  },
  {
   "cell_type": "code",
   "execution_count": 170,
   "metadata": {},
   "outputs": [
    {
     "data": {
      "text/plain": [
       "array([      2,    2240,    2879,    4301,    5054,    5485,    7320,\n",
       "          9620,   10687,   11457,   12365,   13840,   14997,   15743,\n",
       "         17517,   18040,   18699,   19458,   20168,   21864,   23560,\n",
       "         24035,   26041,   26565,   28093,   29016,   31084,   33140,\n",
       "         34801,   35429,   36151,   36800,   38247,   40032,   41897,\n",
       "         42727,   44451,   45305,   46784,   47892,   48065,   48523,\n",
       "         49340,   49876,   51485,   53418,   55039,   55804,   57156,\n",
       "         58067,   58645,   59896,   61900,   63685,   64800,   65643,\n",
       "         67461,   67894,   68573,   69936,   71279,   72827,   74208,\n",
       "         74668,   77120,   78767,   80654,   81146,   81773,   83221,\n",
       "         83990,   85214,   87393,   89551,   90513,   92293,   93502,\n",
       "         95189,   96621,   98260,   99620,  100784,  102461,  103420,\n",
       "        104832,  105019,  105377,  106500,  108303,  109545,  110732,\n",
       "        111807,  112775,  114960,  116156,  117680,  119115,  120135,\n",
       "        120608,  121884,  123452,  125319,  125475,  127063,  127263,\n",
       "        128677,  129250,  130476,  131132,  131761,  132913,  133460,\n",
       "        135228,  136656,  137726,  137934,  139648,  140940,  141667,\n",
       "        142865,  144407,  146320,  147439,  148797,  150304,  152266,\n",
       "        153283,  153512,  154821,  155529,  157108,  158013,  159898,\n",
       "        160265,  160863,  162561,  165308,  165901,  167548,  169286,\n",
       "        169458,  171131,  172221,  172590,  174015,  175395,  177445,\n",
       "        178002,  178279,  179064,  180827,  181119,  181421,  183072,\n",
       "        183733,  184373,  185794,  187081,  188322,  189998,  193198,\n",
       "        194022,  194243,  195370,  196619,  197722,  198610,  198904,\n",
       "        200622,  201698,  202917,  203255,  203982,  205684,  207432,\n",
       "        209144,  209785,  210819,  211453,  211581,  213316,  213591,\n",
       "        215371,  216807,  217560,  218432,  218946,  220512,  222188,\n",
       "        223441,  223834,  225826,  226677,  228621,  229208,  231213,\n",
       "        231595,  232226,  233793,  235006,  236655,  237810,  238038,\n",
       "        238217,  239777,  241721,  242343,  243945,  245188,  246860,\n",
       "        247223,  248144,  248492,  249953,  250916,  251502,  253199,\n",
       "        254104,  254688,  254951,  256714,  257238,  257638,  258764,\n",
       "        258932,  260580,  261464,  263471,  265568,  267015,  269573,\n",
       "        271185,  272121,  274017,  275044,  276966,  278350,  280172,\n",
       "        282393,  284419,  285762,  286803,  287540,  288365,  288640,\n",
       "        289122,  290131,  291086,  292904,  293696,  294749,  295303,\n",
       "        297040,  298249,  300089,  301634,  303286,  304524,  305994,\n",
       "        307204,  308452,  310322,  311334,  313262,  315505,  317139,\n",
       "        317296,  318080,  319646,  321676,  321789,  322386,  323215,\n",
       "        324483,  326146,  327034,  329432,  329809,  330741,  332820,\n",
       "        333086,  333872,  335228,  337460,  339347,  340619,  342312,\n",
       "        344534,  344783,  346185,  347653,  349720,  351633,  351974,\n",
       "        352674,  354338,  354767,  356167,  356754,  357348,  358679,\n",
       "        360571,  362170,  363059,  365009,  367026,  367336,  369368,\n",
       "        371151,  372119,  373047,  374183,  376030,  378329,  379845,\n",
       "        381737,  383890,  385149,  386423,  386777,  388472,  390697,\n",
       "        392389,  393275,  395343,  396803,  397636,  399369,  400125,\n",
       "        401482,  402113,  403212,  403729,  405602,  406709,  407544,\n",
       "        409524,  409898,  410416,  411039,  412240,  412995,  414429,\n",
       "        415350,  417353,  417623,  417895,  418116,  419005,  419455,\n",
       "        421655,  424249,  425268,  426321,  427741,  428775,  430206,\n",
       "        431365,  431930,  433290,  435936,  437108,  437284,  438192,\n",
       "        440322,  441302,  441961,  443354,  444247,  445899,  446994,\n",
       "        448152,  450607,  451681,  452019,  453719,  454696,  455640,\n",
       "        456234,  458026,  459609,  460051,  460543,  462811,  463936,\n",
       "        465081,  466179,  467861,  469733,  471927,  472494,  473801,\n",
       "        474592,  476651,  477463,  479930,  481474,  482746,  484802,\n",
       "        485629,  487131,  489321,  491029,  491537,  493683,  494202,\n",
       "        494540,  495176,  496570,  497180,  499483,  499988,  501437,\n",
       "        502255,  504315,  506035,  506620,  506907,  508198,  508420,\n",
       "        508859,  510190,  512045,  514133,  515934,  516930,  518387,\n",
       "        519872,  520975,  522642,  524472,  525166,  525610,  527499,\n",
       "        528485,  530054,  532367,  532944,  534003,  536064,  536894,\n",
       "        538101,  538625,  540140,  540807,  541904,  544131,  544553,\n",
       "        546164,  546358,  546844,  547982,  549965,  550455,  552070,\n",
       "        554124,  554937,  555910,  556995,  559109,  560236,  562081,\n",
       "        563206,  565354,  567576,  568379,  569223,  569995,  571363,\n",
       "        573034,  575070,  576160,  578052,  580002,  580854,  582292,\n",
       "        582535,  583403,  585313,  587250,  589290,  590169,  591312,\n",
       "        592271,  594150,  595335,  596215,  598041,  598687,  600582,\n",
       "        600978,  601352,  603271,  604781,  605901,  606061,  607919,\n",
       "        608185,  609399,  609638,  611137,  612598,  613496,  613805,\n",
       "        614745,  615249,  615853,  617424,  619173,  619646,  620024,\n",
       "        620414,  622076,  622367,  622490,  624328,  625814,  627765,\n",
       "        628735,  629316,  630645,  631064,  631901,  632868,  633308,\n",
       "        633778,  635518,  635991,  636765,  637773,  637931,  639523,\n",
       "        640616,  641736,  642170,  643492,  644324,  645766,  647696,\n",
       "        648994,  650167,  651103,  653073,  653933,  655311,  656708,\n",
       "        658136,  659612,  661082,  662086,  663864,  665589,  666593,\n",
       "        667288,  669784,  670588,  671703,  672856,  674459,  676892,\n",
       "        678523,  678995,  681249,  681686,  682818,  684011,  685985,\n",
       "        687298,  688816,  690977,  692394,  693846,  695711,  697832,\n",
       "        699338,  701266,  702416,  702965,  703823,  705768,  707425,\n",
       "        708146,  710350,  711111,  712790,  713704,  715476,  717252,\n",
       "        718126,  719875,  720016,  720942,  721284,  723326,  724279,\n",
       "        726631,  727160,  727314,  727772,  728390,  728674,  729616,\n",
       "        730648,  731746,  732956,  735205,  736411,  737752,  738391,\n",
       "        740374,  742052,  744049,  746528,  747426,  748677,  749161,\n",
       "        750683,  752678,  754301,  755289,  757419,  758318,  760054,\n",
       "        760880,  762559,  763596,  764028,  765639,  765875,  767745,\n",
       "        768808,  770108,  771475,  773843,  775722,  776850,  778351,\n",
       "        780496,  782503,  783044,  784423,  784642,  786883,  788178,\n",
       "        790672,  791328,  793260,  794531,  796359,  797760,  799072,\n",
       "        800798,  801283,  802995,  803161,  803435,  804394,  806580,\n",
       "        808358,  809980,  811848,  813652,  815069,  816415,  817251,\n",
       "        817969,  818526,  820657,  821632,  823295,  823752,  825045,\n",
       "        826469,  827012,  828820,  830822,  831096,  831528,  833449,\n",
       "        835116,  835371,  837335,  838132,  839607,  841292,  842389,\n",
       "        842669,  844277,  845440,  846473,  847419,  848621,  849812,\n",
       "        850659,  852370,  853117,  853910,  855117,  856429,  859080,\n",
       "        860147,  861648,  862184,  863693,  863906,  864665,  866192,\n",
       "        867021,  867849,  869588,  870831,  871261,  873511,  874687,\n",
       "        876204,  877710,  879810,  881186,  881901,  883228,  884423,\n",
       "        886304,  887879,  888566,  890819,  892086,  893360,  894038,\n",
       "        894179,  895256,  895927,  897386,  899059,  899652,  900709,\n",
       "        902942,  903844,  904992,  905521,  906355,  908330,  909893,\n",
       "        911546,  912982,  914087,  914836,  915666,  916934,  919172,\n",
       "        921123,  921687,  923050,  924909,  925857,  927681,  929596,\n",
       "        930674,  931456,  932124,  933979,  935484,  936565,  938303,\n",
       "        939363,  940604,  942562,  943464,  943579,  945026,  945299,\n",
       "        946810,  947913,  949704,  950851,  952410,  954425,  955267,\n",
       "        956366,  958177,  959836,  961685,  961972,  962208,  963967,\n",
       "        964699,  965629,  966743,  967254,  968259,  970448,  972131,\n",
       "        973236,  973828,  976488,  977168,  979574,  982488,  983404,\n",
       "        984359,  984946,  986078,  987706,  987871,  988612,  988907,\n",
       "        990223,  992405,  993977,  994413,  996576,  997401,  997577,\n",
       "        999302, 1000461, 1000805, 1003308, 1005591, 1006828, 1008064,\n",
       "       1008421, 1010092, 1010720, 1012352, 1014859, 1015140, 1016324,\n",
       "       1017750, 1019174, 1019648, 1020789, 1021674, 1022447, 1023004,\n",
       "       1023520, 1024669, 1025804, 1026712, 1028438, 1030442, 1032598,\n",
       "       1033654, 1034771, 1035744, 1037100, 1037302, 1039266, 1039567,\n",
       "       1041401, 1041802, 1043398, 1045006, 1046015, 1046852, 1047730,\n",
       "       1049539, 1052049, 1052437, 1052878, 1053758, 1054459, 1055200,\n",
       "       1055384, 1056249, 1058203, 1060118, 1062172, 1063312, 1065745,\n",
       "       1067479, 1068895, 1070386, 1071742, 1073539, 1074989, 1076159,\n",
       "       1077612, 1078557, 1080355, 1081526, 1083901, 1084031, 1085390,\n",
       "       1086720, 1087408, 1089061, 1090838, 1091807, 1092932, 1094613,\n",
       "       1096267, 1098002, 1098384, 1099696, 1101882, 1103447, 1103830,\n",
       "       1104201, 1104663, 1106712, 1109421, 1111327, 1113038, 1114927,\n",
       "       1116945, 1118393, 1118939, 1119343, 1120315, 1121722, 1123331,\n",
       "       1124802, 1125065, 1126575, 1127811, 1128452, 1130122, 1131122,\n",
       "       1132436, 1133099, 1134765, 1136102, 1138168, 1140093, 1141706,\n",
       "       1144633, 1145045, 1146331, 1148352, 1149461, 1151430, 1152903,\n",
       "       1154040, 1154984, 1155432, 1156874, 1157447, 1157725, 1158544,\n",
       "       1159480, 1161670, 1163469, 1164586, 1165952, 1167221, 1168812,\n",
       "       1170111, 1170736, 1172064, 1172180, 1173391, 1174019, 1175820,\n",
       "       1177090, 1178530, 1179250, 1179660, 1180900, 1181790, 1182998,\n",
       "       1183280, 1184020, 1184340, 1185161, 1185686, 1186279, 1187822,\n",
       "       1189339, 1190503, 1191771, 1193433, 1193988, 1194191, 1194372,\n",
       "       1194689, 1194905, 1196141, 1197743, 1199770, 1200635, 1201923,\n",
       "       1202315, 1202916, 1204613, 1205616, 1207459, 1208029, 1209592,\n",
       "       1210433, 1211382, 1213031, 1213337, 1215397, 1216579, 1217993,\n",
       "       1219312, 1220450, 1220584, 1220760, 1222153, 1222479])"
      ]
     },
     "execution_count": 170,
     "metadata": {},
     "output_type": "execute_result"
    }
   ],
   "source": [
    "unique(W[W.statu].distinctParentIdxG)"
   ]
  },
  {
   "cell_type": "code",
   "execution_count": null,
   "metadata": {},
   "outputs": [],
   "source": []
  }
 ],
 "metadata": {
  "kernelspec": {
   "display_name": "coffeaenv",
   "language": "python",
   "name": "coffeaenv"
  },
  "language_info": {
   "codemirror_mode": {
    "name": "ipython",
    "version": 3
   },
   "file_extension": ".py",
   "mimetype": "text/x-python",
   "name": "python",
   "nbconvert_exporter": "python",
   "pygments_lexer": "ipython3",
   "version": "3.7.6"
  }
 },
 "nbformat": 4,
 "nbformat_minor": 2
}
